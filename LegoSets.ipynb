{
 "cells": [
  {
   "cell_type": "markdown",
   "id": "220ba84d-a156-4337-8b0d-14838a606378",
   "metadata": {},
   "source": [
    "This project is from DataCamp with the purpose of performing EDA on two datasets lego_sets and parent_themes to identify:\n",
    "* What percentage of all licensed sets ever released were Star Wars themed?\n",
    "* In which year was the highest number of Star Wars sets released?"
   ]
  },
  {
   "cell_type": "code",
   "execution_count": 2,
   "id": "81c2b8f6-12a6-4512-9068-775b04e43694",
   "metadata": {},
   "outputs": [
    {
     "name": "stdout",
     "output_type": "stream",
     "text": [
      "  set_num                        name  year  num_parts    theme_name  \\\n",
      "0    00-1             Weetabix Castle  1970      471.0        Castle   \n",
      "1  0011-2           Town Mini-Figures  1978        NaN  Supplemental   \n",
      "2  0011-3  Castle 2 for 1 Bonus Offer  1987        NaN  Lion Knights   \n",
      "3  0012-1          Space Mini-Figures  1979       12.0  Supplemental   \n",
      "4  0013-1          Space Mini-Figures  1979       12.0  Supplemental   \n",
      "\n",
      "  parent_theme  \n",
      "0     Legoland  \n",
      "1         Town  \n",
      "2       Castle  \n",
      "3        Space  \n",
      "4        Space  \n",
      "    id     name  is_licensed\n",
      "0    1  Technic        False\n",
      "1   22  Creator        False\n",
      "2   50     Town        False\n",
      "3  112   Racers        False\n",
      "4  126    Space        False\n"
     ]
    }
   ],
   "source": [
    "# Import libraries \n",
    "import pandas as pd\n",
    "\n",
    "# Read in the datasets\n",
    "lego_sets = pd.read_csv('data/lego_sets.csv')\n",
    "parent_themes = pd.read_csv('data/parent_themes.csv')\n",
    "\n",
    "# View the data sets\n",
    "print(lego_sets.head())\n",
    "print(parent_themes.head())"
   ]
  },
  {
   "cell_type": "code",
   "execution_count": 3,
   "id": "875a2f97-bac5-4e8c-90da-1452589ecf2b",
   "metadata": {},
   "outputs": [
    {
     "data": {
      "text/plain": [
       "(11986, 6)"
      ]
     },
     "execution_count": 3,
     "metadata": {},
     "output_type": "execute_result"
    }
   ],
   "source": [
    "# Perform EDA on lego_set data\n",
    "\n",
    "# Identify the size of lego_set\n",
    "lego_sets.size\n",
    "\n",
    "# Get summary stats\n",
    "lego_sets.describe()\n",
    "\n",
    "# Get the shape\n",
    "lego_sets.shape"
   ]
  },
  {
   "cell_type": "code",
   "execution_count": 7,
   "id": "0f2a6e99-37c3-4940-8753-faaecaec5801",
   "metadata": {},
   "outputs": [
    {
     "data": {
      "text/plain": [
       "set_num         0\n",
       "name            0\n",
       "year            0\n",
       "num_parts       0\n",
       "theme_name      0\n",
       "parent_theme    0\n",
       "dtype: int64"
      ]
     },
     "execution_count": 7,
     "metadata": {},
     "output_type": "execute_result"
    }
   ],
   "source": [
    "# Clean the data\n",
    "\n",
    "# First identify datatypes\n",
    "lego_sets.dtypes\n",
    "\n",
    "# Identify and remove all null values\n",
    "lego_sets.isna().sum()\n",
    "\n",
    "# Remove all data and saved as new variable\n",
    "lego_sets_clean = lego_sets.dropna()\n",
    "\n",
    "# Validate new data is clean \n",
    "lego_sets_clean.isna().sum()"
   ]
  },
  {
   "cell_type": "code",
   "execution_count": 8,
   "id": "7103ffee-341e-4469-97e8-453feaba46ba",
   "metadata": {},
   "outputs": [
    {
     "data": {
      "text/plain": [
       "(111, 3)"
      ]
     },
     "execution_count": 8,
     "metadata": {},
     "output_type": "execute_result"
    }
   ],
   "source": [
    "# Perform EDA on parent_themes data\n",
    "parent_themes.size\n",
    "\n",
    "# Get summary stats\n",
    "parent_themes.describe()\n",
    "\n",
    "# View shape\n",
    "parent_themes.shape"
   ]
  },
  {
   "cell_type": "code",
   "execution_count": 13,
   "id": "1b99decc-119f-41da-80db-04fe82436c46",
   "metadata": {},
   "outputs": [
    {
     "data": {
      "text/plain": [
       "7                    Star Wars\n",
       "12                Harry Potter\n",
       "16    Pirates of the Caribbean\n",
       "17               Indiana Jones\n",
       "18                        Cars\n",
       "Name: name, dtype: object"
      ]
     },
     "execution_count": 13,
     "metadata": {},
     "output_type": "execute_result"
    }
   ],
   "source": [
    "# Clean the data\n",
    "# View data types\n",
    "parent_themes.dtypes\n",
    "\n",
    "# Identify if there are any missing values\n",
    "parent_themes.isna().sum()\n",
    "\n",
    "# Create new variable that just contains is_licensed and name\n",
    "licensed_theme = parent_themes[parent_themes['is_licensed']]['name']\n",
    "\n",
    "# View the results\n",
    "licensed_theme.head()"
   ]
  },
  {
   "cell_type": "code",
   "execution_count": 16,
   "id": "28b9a8d6-936b-4d66-a396-29604dcb8809",
   "metadata": {},
   "outputs": [
    {
     "data": {
      "text/html": [
       "<div>\n",
       "<style scoped>\n",
       "    .dataframe tbody tr th:only-of-type {\n",
       "        vertical-align: middle;\n",
       "    }\n",
       "\n",
       "    .dataframe tbody tr th {\n",
       "        vertical-align: top;\n",
       "    }\n",
       "\n",
       "    .dataframe thead th {\n",
       "        text-align: right;\n",
       "    }\n",
       "</style>\n",
       "<table border=\"1\" class=\"dataframe\">\n",
       "  <thead>\n",
       "    <tr style=\"text-align: right;\">\n",
       "      <th></th>\n",
       "      <th>set_num</th>\n",
       "      <th>name</th>\n",
       "      <th>year</th>\n",
       "      <th>num_parts</th>\n",
       "      <th>theme_name</th>\n",
       "      <th>parent_theme</th>\n",
       "    </tr>\n",
       "  </thead>\n",
       "  <tbody>\n",
       "    <tr>\n",
       "      <th>44</th>\n",
       "      <td>10018-1</td>\n",
       "      <td>Darth Maul</td>\n",
       "      <td>2001</td>\n",
       "      <td>1868.0</td>\n",
       "      <td>Star Wars</td>\n",
       "      <td>Star Wars</td>\n",
       "    </tr>\n",
       "    <tr>\n",
       "      <th>57</th>\n",
       "      <td>10030-1</td>\n",
       "      <td>Imperial Star Destroyer - UCS</td>\n",
       "      <td>2002</td>\n",
       "      <td>3115.0</td>\n",
       "      <td>Star Wars Episode 4/5/6</td>\n",
       "      <td>Star Wars</td>\n",
       "    </tr>\n",
       "    <tr>\n",
       "      <th>95</th>\n",
       "      <td>10075-1</td>\n",
       "      <td>Spider-Man Action Pack</td>\n",
       "      <td>2002</td>\n",
       "      <td>25.0</td>\n",
       "      <td>Spider-Man</td>\n",
       "      <td>Super Heroes</td>\n",
       "    </tr>\n",
       "    <tr>\n",
       "      <th>116</th>\n",
       "      <td>10123-1</td>\n",
       "      <td>Cloud City</td>\n",
       "      <td>2003</td>\n",
       "      <td>707.0</td>\n",
       "      <td>Star Wars Episode 4/5/6</td>\n",
       "      <td>Star Wars</td>\n",
       "    </tr>\n",
       "    <tr>\n",
       "      <th>120</th>\n",
       "      <td>10129-1</td>\n",
       "      <td>Rebel Snowspeeder - UCS</td>\n",
       "      <td>2003</td>\n",
       "      <td>1456.0</td>\n",
       "      <td>Star Wars Episode 4/5/6</td>\n",
       "      <td>Star Wars</td>\n",
       "    </tr>\n",
       "  </tbody>\n",
       "</table>\n",
       "</div>"
      ],
      "text/plain": [
       "     set_num                           name  year  num_parts  \\\n",
       "44   10018-1                     Darth Maul  2001     1868.0   \n",
       "57   10030-1  Imperial Star Destroyer - UCS  2002     3115.0   \n",
       "95   10075-1         Spider-Man Action Pack  2002       25.0   \n",
       "116  10123-1                     Cloud City  2003      707.0   \n",
       "120  10129-1        Rebel Snowspeeder - UCS  2003     1456.0   \n",
       "\n",
       "                  theme_name  parent_theme  \n",
       "44                 Star Wars     Star Wars  \n",
       "57   Star Wars Episode 4/5/6     Star Wars  \n",
       "95                Spider-Man  Super Heroes  \n",
       "116  Star Wars Episode 4/5/6     Star Wars  \n",
       "120  Star Wars Episode 4/5/6     Star Wars  "
      ]
     },
     "execution_count": 16,
     "metadata": {},
     "output_type": "execute_result"
    }
   ],
   "source": [
    "# Subset the lego_sets that are licensed\n",
    "licensed = lego_sets_clean['parent_theme'].isin(licensed_theme)\n",
    "licensed_sets = lego_sets_clean[licensed]\n",
    "licensed_sets.head()"
   ]
  },
  {
   "cell_type": "code",
   "execution_count": 17,
   "id": "2ecfb104-2d45-4160-a4f3-bd87ba9ec5d5",
   "metadata": {},
   "outputs": [
    {
     "name": "stdout",
     "output_type": "stream",
     "text": [
      "The percentage of licensed sets that are Star Wars themed is 50%.\n"
     ]
    }
   ],
   "source": [
    "# Identify the percentage of licensed Star Wars sets\n",
    "\n",
    "# First identify length of all the licensed_sets\n",
    "all_sets = len(licensed_sets)\n",
    "# Create a variable for just the star wars sets\n",
    "star_wars_sets = len(licensed_sets[licensed_sets['parent_theme'] == 'Star Wars'])\n",
    "ratio = star_wars_sets / all_sets\n",
    "the_force = int(ratio * 100)\n",
    "print(f'The percentage of licensed sets that are Star Wars themed is {the_force}%.')"
   ]
  },
  {
   "cell_type": "code",
   "execution_count": 19,
   "id": "aaa64ca6-7656-4bd7-8467-6beb560752fa",
   "metadata": {},
   "outputs": [
    {
     "name": "stdout",
     "output_type": "stream",
     "text": [
      "The year when the most Star Wars sets were released was 2016.\n"
     ]
    }
   ],
   "source": [
    "# Create a pivot table \n",
    "licensed_pivot = licensed_sets.pivot_table(index = 'year', columns = 'parent_theme', values = 'set_num', aggfunc = 'count')\n",
    "# Use the pivot table to identify what year the most star wars set were sold\n",
    "star_wars_pivot = licensed_pivot.sort_values(by = 'Star Wars', ascending = False)['Star Wars']\n",
    "new_era = 2016\n",
    "print(f'The year when the most Star Wars sets were released was {new_era}.')"
   ]
  }
 ],
 "metadata": {
  "kernelspec": {
   "display_name": "Python 3 (ipykernel)",
   "language": "python",
   "name": "python3"
  },
  "language_info": {
   "codemirror_mode": {
    "name": "ipython",
    "version": 3
   },
   "file_extension": ".py",
   "mimetype": "text/x-python",
   "name": "python",
   "nbconvert_exporter": "python",
   "pygments_lexer": "ipython3",
   "version": "3.10.12"
  }
 },
 "nbformat": 4,
 "nbformat_minor": 5
}
